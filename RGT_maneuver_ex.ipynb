{
 "cells": [
  {
   "cell_type": "markdown",
   "metadata": {},
   "source": [
    "# Preamble"
   ]
  },
  {
   "cell_type": "code",
   "execution_count": 1,
   "metadata": {
    "ExecuteTime": {
     "end_time": "2022-07-12T21:48:34.612219Z",
     "start_time": "2022-07-12T21:48:34.595711Z"
    }
   },
   "outputs": [],
   "source": [
    "%load_ext autoreload\n",
    "%autoreload 2"
   ]
  },
  {
   "cell_type": "code",
   "execution_count": 2,
   "metadata": {
    "ExecuteTime": {
     "end_time": "2022-07-12T21:48:47.510178Z",
     "start_time": "2022-07-12T21:48:39.540062Z"
    }
   },
   "outputs": [],
   "source": [
    "import os, sys\n",
    "sys.path.append('../SatLib')\n",
    "import satPlotTools as spt\n",
    "import satbox as sb\n",
    "import orbitalMechanics as om\n",
    "import utils as utils"
   ]
  },
  {
   "cell_type": "code",
   "execution_count": 3,
   "metadata": {
    "ExecuteTime": {
     "end_time": "2022-07-12T21:48:47.530117Z",
     "start_time": "2022-07-12T21:48:47.511599Z"
    }
   },
   "outputs": [],
   "source": [
    "import numpy as np\n",
    "from poliastro import constants\n",
    "from poliastro.earth import Orbit\n",
    "from poliastro.earth.sensors import min_and_max_ground_range, ground_range_diff_at_azimuth\n",
    "from poliastro.bodies import Earth\n",
    "from poliastro.maneuver import Maneuver\n",
    "from poliastro.twobody.propagation import propagate\n",
    "from poliastro.twobody.propagation import cowell\n",
    "from poliastro.core.perturbations import J2_perturbation\n",
    "from poliastro.core.propagation import func_twobody\n",
    "from poliastro.util import norm\n",
    "import astropy.units as u\n",
    "from astropy.time import Time, TimeDelta"
   ]
  },
  {
   "cell_type": "markdown",
   "metadata": {},
   "source": [
    "# Define Walker "
   ]
  },
  {
   "cell_type": "code",
   "execution_count": 4,
   "metadata": {
    "ExecuteTime": {
     "end_time": "2022-07-12T21:49:21.331552Z",
     "start_time": "2022-07-12T21:49:21.287961Z"
    }
   },
   "outputs": [
    {
     "name": "stderr",
     "output_type": "stream",
     "text": [
      "/Users/manweichan/Desktop/MITPhD/SAS/code/.venv/lib/python3.7/site-packages/astropy/units/decorators.py:253: UserWarning: Wrapping true anomaly to -π <= nu < π\n",
      "  return_ = wrapped_function(*func_args, **func_kwargs)\n"
     ]
    }
   ],
   "source": [
    "i = 60 * u.deg\n",
    "t = 4\n",
    "p = 2\n",
    "f = 0\n",
    "alt = 550 * u.km\n",
    "walker = sb.Constellation.from_walker(i,t,p,f,alt)"
   ]
  },
  {
   "cell_type": "markdown",
   "metadata": {},
   "source": [
    "# Define Ground Station"
   ]
  },
  {
   "cell_type": "code",
   "execution_count": 5,
   "metadata": {
    "ExecuteTime": {
     "end_time": "2022-07-12T21:49:46.088939Z",
     "start_time": "2022-07-12T21:49:46.052877Z"
    }
   },
   "outputs": [],
   "source": [
    "gs_lat = 39 * u.deg\n",
    "gs_lon = 127 * u.deg\n",
    "gs_h = 0 * u.m\n",
    "gs = sb.GroundLoc(gs_lon, gs_lat, gs_h)"
   ]
  },
  {
   "cell_type": "markdown",
   "metadata": {},
   "source": [
    "# Define RGT Drift Maneuver"
   ]
  },
  {
   "cell_type": "code",
   "execution_count": 6,
   "metadata": {
    "ExecuteTime": {
     "end_time": "2022-07-12T21:50:36.083666Z",
     "start_time": "2022-07-12T21:50:36.051030Z"
    }
   },
   "outputs": [],
   "source": [
    "r_drift = 650*u.km #Drift orbit at 650 km"
   ]
  },
  {
   "cell_type": "markdown",
   "metadata": {},
   "source": [
    "# Calculate Burn schedule"
   ]
  },
  {
   "cell_type": "code",
   "execution_count": 9,
   "metadata": {
    "ExecuteTime": {
     "end_time": "2022-07-12T21:51:16.730889Z",
     "start_time": "2022-07-12T21:51:15.541347Z"
    }
   },
   "outputs": [
    {
     "name": "stdout",
     "output_type": "stream",
     "text": [
      "maneuver schedule taken from satellite object\n",
      "maneuver schedule taken from satellite object\n",
      "maneuver schedule taken from satellite object\n",
      "maneuver schedule taken from satellite object\n"
     ]
    }
   ],
   "source": [
    "\n",
    "schedDict = walker.gen_GOM_2_RGT_scheds(r_drift, gs)\n",
    "sats2Maneuver, driftTimes, sched = walker.get_ascending_descending_per_plane(schedDict) #Assumes one satellite per plane will get there\n"
   ]
  },
  {
   "cell_type": "markdown",
   "metadata": {},
   "source": [
    "# Propagate satellites"
   ]
  },
  {
   "cell_type": "code",
   "execution_count": 12,
   "metadata": {
    "ExecuteTime": {
     "end_time": "2022-07-12T21:52:01.996718Z",
     "start_time": "2022-07-12T21:51:57.748849Z"
    }
   },
   "outputs": [
    {
     "name": "stdout",
     "output_type": "stream",
     "text": [
      "maneuver schedule taken from satellite object\n",
      "Not skipping schedule for Plane 0 Sat 0\n",
      "maneuver schedule taken from satellite object\n",
      "Not skipping schedule for Plane 0 Sat 1\n",
      "maneuver schedule taken from satellite object\n",
      "Not skipping schedule for Plane 1 Sat 2\n",
      "maneuver schedule taken from satellite object\n",
      "Not skipping schedule for Plane 1 Sat 3\n"
     ]
    }
   ],
   "source": [
    "t2propagate = 1*u.day\n",
    "tStep = 30 * u.s\n",
    "verbose = True\n",
    "walkerSim = sb.SimConstellation(walker, t2propagate, tStep, verbose = verbose)\n",
    "walkerSim.propagate(select_sched_sats = sats2Maneuver, verbose=verbose)"
   ]
  },
  {
   "cell_type": "code",
   "execution_count": 16,
   "metadata": {
    "ExecuteTime": {
     "end_time": "2022-07-12T21:52:34.767022Z",
     "start_time": "2022-07-12T21:52:34.724425Z"
    }
   },
   "outputs": [
    {
     "data": {
      "text/plain": [
       "<satbox.Constellation at 0x156eec0f0>"
      ]
     },
     "execution_count": 16,
     "metadata": {},
     "output_type": "execute_result"
    }
   ],
   "source": [
    "#Here is the consetllation you want to plot @jace\n",
    "walkerSim.constellation"
   ]
  },
  {
   "cell_type": "code",
   "execution_count": null,
   "metadata": {},
   "outputs": [],
   "source": []
  }
 ],
 "metadata": {
  "kernelspec": {
   "display_name": "Python 3 (ipykernel)",
   "language": "python",
   "name": "python3"
  },
  "language_info": {
   "codemirror_mode": {
    "name": "ipython",
    "version": 3
   },
   "file_extension": ".py",
   "mimetype": "text/x-python",
   "name": "python",
   "nbconvert_exporter": "python",
   "pygments_lexer": "ipython3",
   "version": "3.7.3"
  },
  "toc": {
   "base_numbering": 1,
   "nav_menu": {},
   "number_sections": true,
   "sideBar": true,
   "skip_h1_title": false,
   "title_cell": "Table of Contents",
   "title_sidebar": "Contents",
   "toc_cell": false,
   "toc_position": {},
   "toc_section_display": true,
   "toc_window_display": false
  }
 },
 "nbformat": 4,
 "nbformat_minor": 4
}
